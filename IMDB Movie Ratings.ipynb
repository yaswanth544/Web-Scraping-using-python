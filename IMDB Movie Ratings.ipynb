{
 "cells": [
  {
   "cell_type": "markdown",
   "id": "c983b0b3",
   "metadata": {},
   "source": [
    "# WEB SCRPING USING PYTHON"
   ]
  },
  {
   "cell_type": "markdown",
   "id": "24c59b34",
   "metadata": {},
   "source": [
    "## Python program to Scrape IMDB website"
   ]
  },
  {
   "cell_type": "markdown",
   "id": "4ef11625",
   "metadata": {},
   "source": [
    "The main aim of this project is to scrape  the data from IMDB website"
   ]
  },
  {
   "cell_type": "code",
   "execution_count": 31,
   "id": "c1714611",
   "metadata": {},
   "outputs": [],
   "source": [
    "from bs4 import BeautifulSoup\n",
    "import requests, openpyxl"
   ]
  },
  {
   "cell_type": "code",
   "execution_count": null,
   "id": "5177e25f",
   "metadata": {},
   "outputs": [],
   "source": [
    "excel=openpyxl.workbook()\n",
    "sheet=excel.active\n",
    "sheet.title='Top Rated Movies'\n",
    "sheet.append(['Movie Rank','Movie Name','Year of Release','IMDB Rating'])\n"
   ]
  },
  {
   "cell_type": "code",
   "execution_count": null,
   "id": "70df31f7",
   "metadata": {},
   "outputs": [],
   "source": [
    "try:\n",
    "    source=requests.get('https://www.imdb.com/chart/top/')\n",
    "    source.raise_for_status()\n",
    "    \n",
    "    soup = BeautifulSoup(source.text,'html.parser')\n",
    "    \n",
    "    movies= soup.find('tbody',class_='lister-list').find_all('tr')\n",
    "    \n",
    "    for movie in movies:\n",
    "        name=movie.find('td',class_='titleColumn').a.text\n",
    "        \n",
    "        rank=movie.find('td',class_='titleColumn').get_text(strip=True).split('.')[0]\n",
    "        \n",
    "        year=movie.find('td',class_='titleColumn').span.text.strip('()')\n",
    "        \n",
    "        rating=movie.find('td',class_='ratingColumn imdbRating').strong.text\n",
    "        \n",
    "        print(rank,name,year,rating)\n",
    "        sheet.append([rank,name,year,rating])\n",
    "    \n",
    "except Exception as e:\n",
    "    print(e)\n",
    "    \n",
    "excel.save('IMDB Movie Rating.xlsx')\n",
    "    \n",
    "\n"
   ]
  }
 ],
 "metadata": {
  "kernelspec": {
   "display_name": "Python 3 (ipykernel)",
   "language": "python",
   "name": "python3"
  },
  "language_info": {
   "codemirror_mode": {
    "name": "ipython",
    "version": 3
   },
   "file_extension": ".py",
   "mimetype": "text/x-python",
   "name": "python",
   "nbconvert_exporter": "python",
   "pygments_lexer": "ipython3",
   "version": "3.9.13"
  }
 },
 "nbformat": 4,
 "nbformat_minor": 5
}
